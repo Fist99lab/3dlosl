{
 "cells": [
  {
   "cell_type": "code",
   "execution_count": 24,
   "metadata": {},
   "outputs": [
    {
     "ename": "SyntaxError",
     "evalue": "can't assign to function call (<ipython-input-24-098c085a00aa>, line 11)",
     "output_type": "error",
     "traceback": [
      "\u001b[1;36m  File \u001b[1;32m\"<ipython-input-24-098c085a00aa>\"\u001b[1;36m, line \u001b[1;32m11\u001b[0m\n\u001b[1;33m    s_data(i)= pd.read_csv('C:/Users/AWST_DEOCK/keras/sampledata/1.csv')\u001b[0m\n\u001b[1;37m    ^\u001b[0m\n\u001b[1;31mSyntaxError\u001b[0m\u001b[1;31m:\u001b[0m can't assign to function call\n"
     ]
    }
   ],
   "source": [
    "import pandas as pd\n",
    "\n",
    "# 1. 데이터셋 생성하기\n",
    "\n",
    "# s_data = pd.read_csv('C:/Users/AWST_DEOCK/keras/sampledata/1.csv')\n",
    "\n",
    "# print(s_data)\n",
    "\n",
    "# for i in range(1,6) :\n",
    "    \n",
    "    s_data = pd.read_csv('C:/Users/AWST_DEOCK/keras/sampledata/1.csv')\n",
    "        \n",
    "    \n",
    "# # signal_data = np.cos(np.arange(1600)*(20*np.pi/1000))[:,None]\n",
    "\n",
    "# ================================================Dictionary handle=============================================================\n",
    "# # data.keys() # key 전체 보기 \n",
    "# # list(data.keys()) #key를 list로 변환\n",
    "# # data.values() # Values 전체 보기 \n",
    "# # list(data.values()) #Values 를 list로 변환\n",
    "# # data.items() # key, Value를 쌍으로 얻기 (튜플로 돌려줌)\n",
    "# # a = data.get('1') # key로 value 얻기, 변수 저장하기\n",
    "# # '1000' in data  #  해당 key가 딕셔너리 안에 있는지 조사하기 (in)\n",
    "# ==============================================================================================================================\n",
    "\n",
    "    \n",
    "# Train_axis = Train_set[0]\n",
    "# Train_axis = Train_axis[['LOSL']]\n",
    "\n",
    "# a_axis_train = a[['x','y','z']]\n",
    "# a_label_train = a[['LOSL']]\n",
    "\n",
    "# b_axis_val = b[['x','y','z']]\n",
    "# b_label_val = b[['LOSL']]\n",
    "\n",
    "# c_axis_test = c[['x','y','z']]\n",
    "# c_label_test = c[['LOSL']]\n",
    "\n"
   ]
  },
  {
   "cell_type": "code",
   "execution_count": null,
   "metadata": {
    "scrolled": true
   },
   "outputs": [],
   "source": [
    "from os import listdir\n",
    "from os.path import isfile, join\n",
    "from IPython.display import display\n",
    "import pandas as pd\n",
    "import numpy as np\n",
    "from keras.models import Sequential\n",
    "from keras.layers import Dense, LSTM, Dropout\n",
    "import matplotlib.pyplot as plt\n",
    "from tensorflow.python.keras.callbacks import TensorBoard\n",
    "from time import time\n",
    "from keras import layers\n",
    "from keras import models \n",
    "import keras\n",
    "\n",
    "%matplotlib inline\n",
    "\n",
    "\n",
    "# 사용자 정의 히스토리 클래스 정의\n",
    "class CustomHistory(keras.callbacks.Callback):\n",
    "    def init(self):\n",
    "        self.train_loss = []\n",
    "        self.val_loss = []\n",
    "        self.train_acc = []\n",
    "        self.val_acc = []        \n",
    "        \n",
    "    def on_epoch_end(self, batch, logs={}):\n",
    "        self.train_loss.append(logs.get('loss'))\n",
    "        self.val_loss.append(logs.get('val_loss'))\n",
    "        self.train_acc.append(logs.get('acc'))\n",
    "        self.val_acc.append(logs.get('val_acc'))\n",
    "        \n",
    "        \n",
    "\n",
    "# 데이터 불러오기 (csv file ->  dataframe as dictionary)\n",
    "\n",
    "mypath = 'C:/Users/AWST_DEOCK/Desktop/da/sampledata/'\n",
    "files = [f.split('.')[0] for f in listdir(mypath) if isfile(join(mypath, f))]\n",
    "\n",
    "Sdata={} # Sdata 는 Dictionary type , 각각의 key에 Pandas DataFrame형태로 Value 저장 \n",
    "\n",
    "for file in files:\n",
    "     Sdata[file] = pd.read_csv(mypath+file+'.csv',names=['x','y','z','LOSL']) #provide separator if required\n",
    "        \n",
    "                \n",
    "Sample_data = list(range(1,1001)) # Sample_data 빈 리스트로 생성\n",
    "\n",
    "for i in range(0,1000):\n",
    "    Sample_data[i] = Sdata.get(str(i+1)) #Sample_data 리스트에 각각의 Dataframe 저장 \n",
    "  \n",
    "# 데이터셋 생성 \n",
    "\n",
    "Train_set = Sample_data[0:800]\n",
    "Vali_set = Sample_data[800:900]\n",
    "Test_set = Sample_data[900:1000]\n",
    "\n",
    "\n",
    "\n",
    "##############              TRAIN  DATA SET              ##############\n",
    "\n",
    "#모델 구성하기 \n",
    "model = Sequential()\n",
    "model.add(Dense(128,input_dim=1,activation=\"relu\"))\n",
    "model.add(Dropout(0.3))\n",
    "for i in range(16):\n",
    "    model.add(Dense(128,activation=\"relu\"))\n",
    "    model.add(Dropout(0.3))\n",
    "model.add(Dense(3))\n",
    "\n",
    "# 3. 모델 학습과정 설정하기\n",
    "model.compile(loss='mean_squared_error', optimizer='adam')\n",
    "\n",
    "tensorboard = TensorBoard(log_dir='C:/Users/AWST_DEOCK/.keras/log'.format(time()))\n",
    "custom_hist = CustomHistory()\n",
    "custom_hist.init()\n",
    "\n",
    "for i in range(0,800):\n",
    "    \n",
    "    Train_d = Train_set[i]\n",
    "    Train_y = Train_d[['x','y','z']]\n",
    "    Train_x = Train_d[['LOSL']]\n",
    "    \n",
    "    # 4. 모델 학습시키기\n",
    "    \n",
    "    model.fit(Train_x, Train_y, epochs=20, batch_size=32, callbacks=[tensorboard])\n",
    "\n",
    "for i in range(0,100):\n",
    "        \n",
    "    Test_d = Test_set[i]\n",
    "    Test_y = Test_d[['x','y','z']]\n",
    "    Test_x = Test_d[['LOSL']]\n",
    "\n",
    "\n",
    "\n",
    "\n",
    "#     plt.figure(figsize=(12,5))\n",
    "#     plt.plot(np.arange(look_ahead),predictions,'r',label=\"prediction\")\n",
    "#     plt.plot(np.arange(look_ahead),c_label_test[:look_ahead],label=\"test function\")\n",
    "#     plt.legend()\n",
    "\n"
   ]
  },
  {
   "cell_type": "code",
   "execution_count": 302,
   "metadata": {},
   "outputs": [
    {
     "data": {
      "image/png": "[encoded data removed]",
      "text/plain": [
       "<Figure size 432x288 with 1 Axes>"
      ]
     },
     "metadata": {
      "needs_background": "light"
     },
     "output_type": "display_data"
    },
    {
     "data": {
      "image/png": "[encoded data removed]",
      "text/plain": [
       "<Figure size 864x360 with 1 Axes>"
      ]
     },
     "metadata": {
      "needs_background": "light"
     },
     "output_type": "display_data"
    }
   ],
   "source": [
    "\n",
    "# 5. 학습과정 살펴보기\n",
    "plt.plot(custom_hist.train_loss)\n",
    "# plt.plot(custom_hist.val_loss)\n",
    "plt.ylim(0.0, 0.15)\n",
    "plt.ylabel('loss')\n",
    "plt.xlabel('epoch')\n",
    "plt.legend(['train'], loc='upper left')\n",
    "plt.show()\n",
    "\n",
    "# # 6. 모델 평가하기\n",
    "# trainScore = model.evaluate(Train_x, Train_y, batch_size=1, verbose=0)\n",
    "# model.reset_states()\n",
    "# print('Train Score: ', trainScore)\n",
    "# # valScore = model.evaluate(x_val, y_val, batch_size=1, verbose=0)\n",
    "# # model.reset_states()\n",
    "# # print('Validataion Score: ', valScore)\n",
    "# testScore = model.evaluate(x_test, y_test, batch_size=1, verbose=0)\n",
    "# model.reset_states()\n",
    "# print('Test Score: ', testScore)\n",
    "\n",
    "# 7. 모델 사용하기\n",
    "look_ahead = len(Test_x)\n",
    "xhat = [Test_x.LOSL[0]]\n",
    "predictions = np.zeros((look_ahead,3))\n",
    "for i in range(look_ahead):\n",
    "    prediction = model.predict(np.array([xhat]), batch_size=1)\n",
    "    predictions[i] = prediction\n",
    "    xhat = Test_x.LOSL[i]\n",
    "#     xhat = np.vstack([xhat[1:],[Test_x.LOSL[i]]])\n",
    "\n",
    "    \n",
    "plt.figure(figsize=(12,5))\n",
    "plt.plot(np.arange(look_ahead),predictions,'r',label=\"prediction\")\n",
    "plt.plot(np.arange(look_ahead),Test_y[:look_ahead],'b',label=\"test function\")\n",
    "plt.legend()\n",
    "plt.show()"
   ]
  },
  {
   "cell_type": "code",
   "execution_count": 292,
   "metadata": {},
   "outputs": [
    {
     "data": {
      "text/plain": [
       "451"
      ]
     },
     "metadata": {},
     "output_type": "display_data"
    }
   ],
   "source": []
  },
  {
   "cell_type": "code",
   "execution_count": null,
   "metadata": {},
   "outputs": [],
   "source": []
  }
 ],
 "metadata": {
  "kernelspec": {
   "display_name": "Python 3",
   "language": "python",
   "name": "python3"
  },
  "language_info": {
   "codemirror_mode": {
    "name": "ipython",
    "version": 3
   },
   "file_extension": ".py",
   "mimetype": "text/x-python",
   "name": "python",
   "nbconvert_exporter": "python",
   "pygments_lexer": "ipython3",
   "version": "3.7.4"
  }
 },
 "nbformat": 4,
 "nbformat_minor": 2
}
